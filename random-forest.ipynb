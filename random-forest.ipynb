{
 "cells": [
  {
   "cell_type": "markdown",
   "id": "2bfbcf6a",
   "metadata": {
    "papermill": {
     "duration": 0.005013,
     "end_time": "2025-02-08T18:18:16.983435",
     "exception": false,
     "start_time": "2025-02-08T18:18:16.978422",
     "status": "completed"
    },
    "tags": []
   },
   "source": [
    "# Random Forest"
   ]
  },
  {
   "cell_type": "markdown",
   "id": "9a67f616",
   "metadata": {
    "papermill": {
     "duration": 0.004225,
     "end_time": "2025-02-08T18:18:16.992086",
     "exception": false,
     "start_time": "2025-02-08T18:18:16.987861",
     "status": "completed"
    },
    "tags": []
   },
   "source": [
    "## Importing Libraries"
   ]
  },
  {
   "cell_type": "code",
   "execution_count": 1,
   "id": "1b67464c",
   "metadata": {
    "execution": {
     "iopub.execute_input": "2025-02-08T18:18:17.003042Z",
     "iopub.status.busy": "2025-02-08T18:18:17.002466Z",
     "iopub.status.idle": "2025-02-08T18:18:20.733937Z",
     "shell.execute_reply": "2025-02-08T18:18:20.732813Z"
    },
    "papermill": {
     "duration": 3.739618,
     "end_time": "2025-02-08T18:18:20.735979",
     "exception": false,
     "start_time": "2025-02-08T18:18:16.996361",
     "status": "completed"
    },
    "tags": []
   },
   "outputs": [],
   "source": [
    "import pandas as pd\n",
    "import numpy as np\n",
    "from sklearn.model_selection import train_test_split\n",
    "from sklearn.ensemble import RandomForestClassifier\n",
    "from sklearn.metrics import accuracy_score, classification_report\n",
    "import matplotlib.pyplot as plt\n",
    "import seaborn as sns\n",
    "from sklearn.metrics import confusion_matrix"
   ]
  },
  {
   "cell_type": "markdown",
   "id": "a7d3cde6",
   "metadata": {
    "papermill": {
     "duration": 0.004141,
     "end_time": "2025-02-08T18:18:20.744589",
     "exception": false,
     "start_time": "2025-02-08T18:18:20.740448",
     "status": "completed"
    },
    "tags": []
   },
   "source": [
    "## Importing Datasets"
   ]
  },
  {
   "cell_type": "code",
   "execution_count": 2,
   "id": "6c028dfa",
   "metadata": {
    "execution": {
     "iopub.execute_input": "2025-02-08T18:18:20.754574Z",
     "iopub.status.busy": "2025-02-08T18:18:20.753932Z",
     "iopub.status.idle": "2025-02-08T18:18:20.774727Z",
     "shell.execute_reply": "2025-02-08T18:18:20.773281Z"
    },
    "papermill": {
     "duration": 0.028159,
     "end_time": "2025-02-08T18:18:20.776975",
     "exception": false,
     "start_time": "2025-02-08T18:18:20.748816",
     "status": "completed"
    },
    "tags": []
   },
   "outputs": [],
   "source": [
    "dataset = pd.read_csv(\"/kaggle/input/insurancedata/insurance_data.csv\")"
   ]
  },
  {
   "cell_type": "code",
   "execution_count": 3,
   "id": "59deee32",
   "metadata": {
    "execution": {
     "iopub.execute_input": "2025-02-08T18:18:20.788653Z",
     "iopub.status.busy": "2025-02-08T18:18:20.788018Z",
     "iopub.status.idle": "2025-02-08T18:18:20.805684Z",
     "shell.execute_reply": "2025-02-08T18:18:20.804172Z"
    },
    "papermill": {
     "duration": 0.026095,
     "end_time": "2025-02-08T18:18:20.807721",
     "exception": false,
     "start_time": "2025-02-08T18:18:20.781626",
     "status": "completed"
    },
    "tags": []
   },
   "outputs": [
    {
     "name": "stdout",
     "output_type": "stream",
     "text": [
      "   age  bought_insurance\n",
      "0   22                 0\n",
      "1   25                 0\n",
      "2   47                 1\n",
      "3   52                 0\n",
      "4   46                 1\n"
     ]
    }
   ],
   "source": [
    "print(dataset.head())"
   ]
  },
  {
   "cell_type": "markdown",
   "id": "671c1bcc",
   "metadata": {
    "papermill": {
     "duration": 0.004047,
     "end_time": "2025-02-08T18:18:20.816597",
     "exception": false,
     "start_time": "2025-02-08T18:18:20.812550",
     "status": "completed"
    },
    "tags": []
   },
   "source": [
    "## Spliting Datas"
   ]
  },
  {
   "cell_type": "code",
   "execution_count": 4,
   "id": "0b613420",
   "metadata": {
    "execution": {
     "iopub.execute_input": "2025-02-08T18:18:20.827853Z",
     "iopub.status.busy": "2025-02-08T18:18:20.827394Z",
     "iopub.status.idle": "2025-02-08T18:18:20.844348Z",
     "shell.execute_reply": "2025-02-08T18:18:20.843266Z"
    },
    "papermill": {
     "duration": 0.025191,
     "end_time": "2025-02-08T18:18:20.846184",
     "exception": false,
     "start_time": "2025-02-08T18:18:20.820993",
     "status": "completed"
    },
    "tags": []
   },
   "outputs": [],
   "source": [
    "X = dataset[['age', 'bought_insurance']]\n",
    "y = dataset [['bought_insurance']]\n",
    "X_train, X_test, y_train, y_test = train_test_split(X, y, test_size=0.2, random_state=42)"
   ]
  },
  {
   "cell_type": "code",
   "execution_count": 5,
   "id": "6438ff0e",
   "metadata": {
    "execution": {
     "iopub.execute_input": "2025-02-08T18:18:20.856435Z",
     "iopub.status.busy": "2025-02-08T18:18:20.856034Z",
     "iopub.status.idle": "2025-02-08T18:18:20.861202Z",
     "shell.execute_reply": "2025-02-08T18:18:20.859971Z"
    },
    "papermill": {
     "duration": 0.012173,
     "end_time": "2025-02-08T18:18:20.862895",
     "exception": false,
     "start_time": "2025-02-08T18:18:20.850722",
     "status": "completed"
    },
    "tags": []
   },
   "outputs": [
    {
     "name": "stdout",
     "output_type": "stream",
     "text": [
      "(21, 2) (6, 2)\n"
     ]
    }
   ],
   "source": [
    "print(X_train.shape, X_test.shape)"
   ]
  },
  {
   "cell_type": "markdown",
   "id": "667893b4",
   "metadata": {
    "papermill": {
     "duration": 0.003922,
     "end_time": "2025-02-08T18:18:20.871444",
     "exception": false,
     "start_time": "2025-02-08T18:18:20.867522",
     "status": "completed"
    },
    "tags": []
   },
   "source": [
    "## Random Forest "
   ]
  },
  {
   "cell_type": "code",
   "execution_count": 6,
   "id": "f9669458",
   "metadata": {
    "execution": {
     "iopub.execute_input": "2025-02-08T18:18:20.881859Z",
     "iopub.status.busy": "2025-02-08T18:18:20.881430Z",
     "iopub.status.idle": "2025-02-08T18:18:20.886813Z",
     "shell.execute_reply": "2025-02-08T18:18:20.885530Z"
    },
    "papermill": {
     "duration": 0.012372,
     "end_time": "2025-02-08T18:18:20.888517",
     "exception": false,
     "start_time": "2025-02-08T18:18:20.876145",
     "status": "completed"
    },
    "tags": []
   },
   "outputs": [],
   "source": [
    "rf = RandomForestClassifier(n_estimators=10, random_state=42)"
   ]
  },
  {
   "cell_type": "code",
   "execution_count": 7,
   "id": "9b1dc70c",
   "metadata": {
    "execution": {
     "iopub.execute_input": "2025-02-08T18:18:20.899996Z",
     "iopub.status.busy": "2025-02-08T18:18:20.899218Z",
     "iopub.status.idle": "2025-02-08T18:18:20.938780Z",
     "shell.execute_reply": "2025-02-08T18:18:20.937358Z"
    },
    "papermill": {
     "duration": 0.047674,
     "end_time": "2025-02-08T18:18:20.940759",
     "exception": false,
     "start_time": "2025-02-08T18:18:20.893085",
     "status": "completed"
    },
    "tags": []
   },
   "outputs": [
    {
     "data": {
      "text/html": [
       "<style>#sk-container-id-1 {color: black;background-color: white;}#sk-container-id-1 pre{padding: 0;}#sk-container-id-1 div.sk-toggleable {background-color: white;}#sk-container-id-1 label.sk-toggleable__label {cursor: pointer;display: block;width: 100%;margin-bottom: 0;padding: 0.3em;box-sizing: border-box;text-align: center;}#sk-container-id-1 label.sk-toggleable__label-arrow:before {content: \"▸\";float: left;margin-right: 0.25em;color: #696969;}#sk-container-id-1 label.sk-toggleable__label-arrow:hover:before {color: black;}#sk-container-id-1 div.sk-estimator:hover label.sk-toggleable__label-arrow:before {color: black;}#sk-container-id-1 div.sk-toggleable__content {max-height: 0;max-width: 0;overflow: hidden;text-align: left;background-color: #f0f8ff;}#sk-container-id-1 div.sk-toggleable__content pre {margin: 0.2em;color: black;border-radius: 0.25em;background-color: #f0f8ff;}#sk-container-id-1 input.sk-toggleable__control:checked~div.sk-toggleable__content {max-height: 200px;max-width: 100%;overflow: auto;}#sk-container-id-1 input.sk-toggleable__control:checked~label.sk-toggleable__label-arrow:before {content: \"▾\";}#sk-container-id-1 div.sk-estimator input.sk-toggleable__control:checked~label.sk-toggleable__label {background-color: #d4ebff;}#sk-container-id-1 div.sk-label input.sk-toggleable__control:checked~label.sk-toggleable__label {background-color: #d4ebff;}#sk-container-id-1 input.sk-hidden--visually {border: 0;clip: rect(1px 1px 1px 1px);clip: rect(1px, 1px, 1px, 1px);height: 1px;margin: -1px;overflow: hidden;padding: 0;position: absolute;width: 1px;}#sk-container-id-1 div.sk-estimator {font-family: monospace;background-color: #f0f8ff;border: 1px dotted black;border-radius: 0.25em;box-sizing: border-box;margin-bottom: 0.5em;}#sk-container-id-1 div.sk-estimator:hover {background-color: #d4ebff;}#sk-container-id-1 div.sk-parallel-item::after {content: \"\";width: 100%;border-bottom: 1px solid gray;flex-grow: 1;}#sk-container-id-1 div.sk-label:hover label.sk-toggleable__label {background-color: #d4ebff;}#sk-container-id-1 div.sk-serial::before {content: \"\";position: absolute;border-left: 1px solid gray;box-sizing: border-box;top: 0;bottom: 0;left: 50%;z-index: 0;}#sk-container-id-1 div.sk-serial {display: flex;flex-direction: column;align-items: center;background-color: white;padding-right: 0.2em;padding-left: 0.2em;position: relative;}#sk-container-id-1 div.sk-item {position: relative;z-index: 1;}#sk-container-id-1 div.sk-parallel {display: flex;align-items: stretch;justify-content: center;background-color: white;position: relative;}#sk-container-id-1 div.sk-item::before, #sk-container-id-1 div.sk-parallel-item::before {content: \"\";position: absolute;border-left: 1px solid gray;box-sizing: border-box;top: 0;bottom: 0;left: 50%;z-index: -1;}#sk-container-id-1 div.sk-parallel-item {display: flex;flex-direction: column;z-index: 1;position: relative;background-color: white;}#sk-container-id-1 div.sk-parallel-item:first-child::after {align-self: flex-end;width: 50%;}#sk-container-id-1 div.sk-parallel-item:last-child::after {align-self: flex-start;width: 50%;}#sk-container-id-1 div.sk-parallel-item:only-child::after {width: 0;}#sk-container-id-1 div.sk-dashed-wrapped {border: 1px dashed gray;margin: 0 0.4em 0.5em 0.4em;box-sizing: border-box;padding-bottom: 0.4em;background-color: white;}#sk-container-id-1 div.sk-label label {font-family: monospace;font-weight: bold;display: inline-block;line-height: 1.2em;}#sk-container-id-1 div.sk-label-container {text-align: center;}#sk-container-id-1 div.sk-container {/* jupyter's `normalize.less` sets `[hidden] { display: none; }` but bootstrap.min.css set `[hidden] { display: none !important; }` so we also need the `!important` here to be able to override the default hidden behavior on the sphinx rendered scikit-learn.org. See: https://github.com/scikit-learn/scikit-learn/issues/21755 */display: inline-block !important;position: relative;}#sk-container-id-1 div.sk-text-repr-fallback {display: none;}</style><div id=\"sk-container-id-1\" class=\"sk-top-container\"><div class=\"sk-text-repr-fallback\"><pre>RandomForestClassifier(n_estimators=10, random_state=42)</pre><b>In a Jupyter environment, please rerun this cell to show the HTML representation or trust the notebook. <br />On GitHub, the HTML representation is unable to render, please try loading this page with nbviewer.org.</b></div><div class=\"sk-container\" hidden><div class=\"sk-item\"><div class=\"sk-estimator sk-toggleable\"><input class=\"sk-toggleable__control sk-hidden--visually\" id=\"sk-estimator-id-1\" type=\"checkbox\" checked><label for=\"sk-estimator-id-1\" class=\"sk-toggleable__label sk-toggleable__label-arrow\">RandomForestClassifier</label><div class=\"sk-toggleable__content\"><pre>RandomForestClassifier(n_estimators=10, random_state=42)</pre></div></div></div></div></div>"
      ],
      "text/plain": [
       "RandomForestClassifier(n_estimators=10, random_state=42)"
      ]
     },
     "execution_count": 7,
     "metadata": {},
     "output_type": "execute_result"
    }
   ],
   "source": [
    "y_train = y_train.values.ravel() \n",
    "y_test = y_test.values.ravel()\n",
    "rf.fit(X_train, y_train)"
   ]
  },
  {
   "cell_type": "markdown",
   "id": "a436057f",
   "metadata": {
    "papermill": {
     "duration": 0.006048,
     "end_time": "2025-02-08T18:18:20.951704",
     "exception": false,
     "start_time": "2025-02-08T18:18:20.945656",
     "status": "completed"
    },
    "tags": []
   },
   "source": [
    "## Prediction"
   ]
  },
  {
   "cell_type": "code",
   "execution_count": 8,
   "id": "b71096ac",
   "metadata": {
    "execution": {
     "iopub.execute_input": "2025-02-08T18:18:20.963293Z",
     "iopub.status.busy": "2025-02-08T18:18:20.962906Z",
     "iopub.status.idle": "2025-02-08T18:18:20.970017Z",
     "shell.execute_reply": "2025-02-08T18:18:20.968854Z"
    },
    "papermill": {
     "duration": 0.015399,
     "end_time": "2025-02-08T18:18:20.971944",
     "exception": false,
     "start_time": "2025-02-08T18:18:20.956545",
     "status": "completed"
    },
    "tags": []
   },
   "outputs": [],
   "source": [
    "y_pred = rf.predict(X_test)"
   ]
  },
  {
   "cell_type": "code",
   "execution_count": 9,
   "id": "41388773",
   "metadata": {
    "execution": {
     "iopub.execute_input": "2025-02-08T18:18:20.982727Z",
     "iopub.status.busy": "2025-02-08T18:18:20.982285Z",
     "iopub.status.idle": "2025-02-08T18:18:20.988597Z",
     "shell.execute_reply": "2025-02-08T18:18:20.987290Z"
    },
    "papermill": {
     "duration": 0.013886,
     "end_time": "2025-02-08T18:18:20.990542",
     "exception": false,
     "start_time": "2025-02-08T18:18:20.976656",
     "status": "completed"
    },
    "tags": []
   },
   "outputs": [
    {
     "name": "stdout",
     "output_type": "stream",
     "text": [
      "Accuracy: 100.00%\n"
     ]
    }
   ],
   "source": [
    "accuracy = accuracy_score(y_test, y_pred)\n",
    "print(f\"Accuracy: {accuracy * 100:.2f}%\")"
   ]
  },
  {
   "cell_type": "code",
   "execution_count": 10,
   "id": "9c2672eb",
   "metadata": {
    "execution": {
     "iopub.execute_input": "2025-02-08T18:18:21.001177Z",
     "iopub.status.busy": "2025-02-08T18:18:21.000826Z",
     "iopub.status.idle": "2025-02-08T18:18:21.015103Z",
     "shell.execute_reply": "2025-02-08T18:18:21.013863Z"
    },
    "papermill": {
     "duration": 0.021748,
     "end_time": "2025-02-08T18:18:21.017029",
     "exception": false,
     "start_time": "2025-02-08T18:18:20.995281",
     "status": "completed"
    },
    "tags": []
   },
   "outputs": [
    {
     "name": "stdout",
     "output_type": "stream",
     "text": [
      "              precision    recall  f1-score   support\n",
      "\n",
      "           0       1.00      1.00      1.00         4\n",
      "           1       1.00      1.00      1.00         2\n",
      "\n",
      "    accuracy                           1.00         6\n",
      "   macro avg       1.00      1.00      1.00         6\n",
      "weighted avg       1.00      1.00      1.00         6\n",
      "\n"
     ]
    }
   ],
   "source": [
    "print(classification_report(y_test, y_pred))"
   ]
  },
  {
   "cell_type": "markdown",
   "id": "bb951c16",
   "metadata": {
    "papermill": {
     "duration": 0.004362,
     "end_time": "2025-02-08T18:18:21.026176",
     "exception": false,
     "start_time": "2025-02-08T18:18:21.021814",
     "status": "completed"
    },
    "tags": []
   },
   "source": [
    "## Confusion Matrix Visualization"
   ]
  },
  {
   "cell_type": "code",
   "execution_count": 11,
   "id": "7358d96f",
   "metadata": {
    "execution": {
     "iopub.execute_input": "2025-02-08T18:18:21.036433Z",
     "iopub.status.busy": "2025-02-08T18:18:21.036083Z",
     "iopub.status.idle": "2025-02-08T18:18:21.041823Z",
     "shell.execute_reply": "2025-02-08T18:18:21.040636Z"
    },
    "papermill": {
     "duration": 0.013177,
     "end_time": "2025-02-08T18:18:21.043888",
     "exception": false,
     "start_time": "2025-02-08T18:18:21.030711",
     "status": "completed"
    },
    "tags": []
   },
   "outputs": [],
   "source": [
    "cm = confusion_matrix(y_test, y_pred)"
   ]
  },
  {
   "cell_type": "code",
   "execution_count": 12,
   "id": "702fd93d",
   "metadata": {
    "execution": {
     "iopub.execute_input": "2025-02-08T18:18:21.055679Z",
     "iopub.status.busy": "2025-02-08T18:18:21.055186Z",
     "iopub.status.idle": "2025-02-08T18:18:21.392561Z",
     "shell.execute_reply": "2025-02-08T18:18:21.391131Z"
    },
    "papermill": {
     "duration": 0.346093,
     "end_time": "2025-02-08T18:18:21.394888",
     "exception": false,
     "start_time": "2025-02-08T18:18:21.048795",
     "status": "completed"
    },
    "tags": []
   },
   "outputs": [
    {
     "data": {
      "image/png": "[encoded data removed]",
      "text/plain": [
       "<Figure size 600x500 with 2 Axes>"
      ]
     },
     "metadata": {},
     "output_type": "display_data"
    }
   ],
   "source": [
    "plt.figure(figsize=(6, 5))\n",
    "sns.heatmap(cm, annot=True, fmt='d', cmap='Blues', xticklabels=['Not Bought', 'Bought'], yticklabels=['Not Bought', 'Bought'])\n",
    "plt.xlabel('Predicted')\n",
    "plt.ylabel('Actual')\n",
    "plt.title('Confusion Matrix')\n",
    "plt.show()"
   ]
  },
  {
   "cell_type": "code",
   "execution_count": 13,
   "id": "45ac5589",
   "metadata": {
    "execution": {
     "iopub.execute_input": "2025-02-08T18:18:21.407077Z",
     "iopub.status.busy": "2025-02-08T18:18:21.406669Z",
     "iopub.status.idle": "2025-02-08T18:18:21.793439Z",
     "shell.execute_reply": "2025-02-08T18:18:21.791174Z"
    },
    "papermill": {
     "duration": 0.395654,
     "end_time": "2025-02-08T18:18:21.795851",
     "exception": false,
     "start_time": "2025-02-08T18:18:21.400197",
     "status": "completed"
    },
    "tags": []
   },
   "outputs": [
    {
     "data": {
      "image/png": "[encoded data removed]",
      "text/plain": [
       "<Figure size 800x600 with 1 Axes>"
      ]
     },
     "metadata": {},
     "output_type": "display_data"
    }
   ],
   "source": [
    "plt.figure(figsize=(8, 6))\n",
    "plt.scatter(y_test, y_pred, alpha=0.6, color='blue')\n",
    "plt.plot([min(y_test), max(y_test)], [min(y_test), max(y_test)], color='red', linestyle='--')  # diagonal line\n",
    "plt.xlabel('Actual Values')\n",
    "plt.ylabel('Predicted Values')\n",
    "plt.title('Actual vs Predicted')\n",
    "plt.show()"
   ]
  }
 ],
 "metadata": {
  "kaggle": {
   "accelerator": "none",
   "dataSources": [
    {
     "datasetId": 6628926,
     "sourceId": 10697377,
     "sourceType": "datasetVersion"
    }
   ],
   "dockerImageVersionId": 30886,
   "isGpuEnabled": false,
   "isInternetEnabled": true,
   "language": "python",
   "sourceType": "notebook"
  },
  "kernelspec": {
   "display_name": "Python 3",
   "language": "python",
   "name": "python3"
  },
  "language_info": {
   "codemirror_mode": {
    "name": "ipython",
    "version": 3
   },
   "file_extension": ".py",
   "mimetype": "text/x-python",
   "name": "python",
   "nbconvert_exporter": "python",
   "pygments_lexer": "ipython3",
   "version": "3.10.12"
  },
  "papermill": {
   "default_parameters": {},
   "duration": 8.563257,
   "end_time": "2025-02-08T18:18:22.623622",
   "environment_variables": {},
   "exception": null,
   "input_path": "__notebook__.ipynb",
   "output_path": "__notebook__.ipynb",
   "parameters": {},
   "start_time": "2025-02-08T18:18:14.060365",
   "version": "2.6.0"
  }
 },
 "nbformat": 4,
 "nbformat_minor": 5
}
