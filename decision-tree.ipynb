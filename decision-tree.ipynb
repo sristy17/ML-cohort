{
 "cells": [
  {
   "cell_type": "markdown",
   "id": "d6037a85",
   "metadata": {
    "papermill": {
     "duration": 0.004835,
     "end_time": "2025-02-08T16:56:29.408741",
     "exception": false,
     "start_time": "2025-02-08T16:56:29.403906",
     "status": "completed"
    },
    "tags": []
   },
   "source": [
    "# Decision Tree"
   ]
  },
  {
   "cell_type": "markdown",
   "id": "0effb21f",
   "metadata": {
    "papermill": {
     "duration": 0.003844,
     "end_time": "2025-02-08T16:56:29.417079",
     "exception": false,
     "start_time": "2025-02-08T16:56:29.413235",
     "status": "completed"
    },
    "tags": []
   },
   "source": [
    "## Importing Libraries"
   ]
  },
  {
   "cell_type": "code",
   "execution_count": 1,
   "id": "423a01e2",
   "metadata": {
    "execution": {
     "iopub.execute_input": "2025-02-08T16:56:29.426818Z",
     "iopub.status.busy": "2025-02-08T16:56:29.426451Z",
     "iopub.status.idle": "2025-02-08T16:56:32.511427Z",
     "shell.execute_reply": "2025-02-08T16:56:32.510171Z"
    },
    "papermill": {
     "duration": 3.092267,
     "end_time": "2025-02-08T16:56:32.513525",
     "exception": false,
     "start_time": "2025-02-08T16:56:29.421258",
     "status": "completed"
    },
    "tags": []
   },
   "outputs": [],
   "source": [
    "import pandas as pd\n",
    "from sklearn.model_selection import train_test_split\n",
    "from sklearn import metrics\n",
    "import matplotlib.pyplot as plt\n",
    "from sklearn import tree\n",
    "from sklearn.tree import DecisionTreeRegressor"
   ]
  },
  {
   "cell_type": "markdown",
   "id": "4377b49e",
   "metadata": {
    "papermill": {
     "duration": 0.004092,
     "end_time": "2025-02-08T16:56:32.522192",
     "exception": false,
     "start_time": "2025-02-08T16:56:32.518100",
     "status": "completed"
    },
    "tags": []
   },
   "source": [
    "## Importing Datasets"
   ]
  },
  {
   "cell_type": "code",
   "execution_count": 2,
   "id": "317bcce6",
   "metadata": {
    "execution": {
     "iopub.execute_input": "2025-02-08T16:56:32.533231Z",
     "iopub.status.busy": "2025-02-08T16:56:32.532596Z",
     "iopub.status.idle": "2025-02-08T16:56:32.559813Z",
     "shell.execute_reply": "2025-02-08T16:56:32.558569Z"
    },
    "papermill": {
     "duration": 0.035409,
     "end_time": "2025-02-08T16:56:32.561943",
     "exception": false,
     "start_time": "2025-02-08T16:56:32.526534",
     "status": "completed"
    },
    "tags": []
   },
   "outputs": [],
   "source": [
    "dataset = pd.read_csv(\"/kaggle/input/homeprice/homeprices.csv\")"
   ]
  },
  {
   "cell_type": "code",
   "execution_count": 3,
   "id": "8abc4958",
   "metadata": {
    "execution": {
     "iopub.execute_input": "2025-02-08T16:56:32.572449Z",
     "iopub.status.busy": "2025-02-08T16:56:32.572046Z",
     "iopub.status.idle": "2025-02-08T16:56:32.590533Z",
     "shell.execute_reply": "2025-02-08T16:56:32.589102Z"
    },
    "papermill": {
     "duration": 0.026081,
     "end_time": "2025-02-08T16:56:32.592685",
     "exception": false,
     "start_time": "2025-02-08T16:56:32.566604",
     "status": "completed"
    },
    "tags": []
   },
   "outputs": [
    {
     "name": "stdout",
     "output_type": "stream",
     "text": [
      "   area   price\n",
      "0  2600  550000\n",
      "1  3000  565000\n",
      "2  3200  610000\n",
      "3  3600  680000\n",
      "4  4000  725000\n"
     ]
    }
   ],
   "source": [
    "print(dataset.head())"
   ]
  },
  {
   "cell_type": "markdown",
   "id": "00850c9a",
   "metadata": {
    "papermill": {
     "duration": 0.004096,
     "end_time": "2025-02-08T16:56:32.601371",
     "exception": false,
     "start_time": "2025-02-08T16:56:32.597275",
     "status": "completed"
    },
    "tags": []
   },
   "source": [
    "## Features"
   ]
  },
  {
   "cell_type": "code",
   "execution_count": 4,
   "id": "7427ce05",
   "metadata": {
    "execution": {
     "iopub.execute_input": "2025-02-08T16:56:32.611501Z",
     "iopub.status.busy": "2025-02-08T16:56:32.611071Z",
     "iopub.status.idle": "2025-02-08T16:56:32.626087Z",
     "shell.execute_reply": "2025-02-08T16:56:32.624958Z"
    },
    "papermill": {
     "duration": 0.022122,
     "end_time": "2025-02-08T16:56:32.627949",
     "exception": false,
     "start_time": "2025-02-08T16:56:32.605827",
     "status": "completed"
    },
    "tags": []
   },
   "outputs": [],
   "source": [
    "X = dataset [['area']]\n",
    "y = dataset [['price']]"
   ]
  },
  {
   "cell_type": "markdown",
   "id": "cc05b380",
   "metadata": {
    "papermill": {
     "duration": 0.004133,
     "end_time": "2025-02-08T16:56:32.636630",
     "exception": false,
     "start_time": "2025-02-08T16:56:32.632497",
     "status": "completed"
    },
    "tags": []
   },
   "source": [
    "## Spliting Data"
   ]
  },
  {
   "cell_type": "code",
   "execution_count": 5,
   "id": "4f745fc6",
   "metadata": {
    "execution": {
     "iopub.execute_input": "2025-02-08T16:56:32.646748Z",
     "iopub.status.busy": "2025-02-08T16:56:32.646325Z",
     "iopub.status.idle": "2025-02-08T16:56:32.653631Z",
     "shell.execute_reply": "2025-02-08T16:56:32.652203Z"
    },
    "papermill": {
     "duration": 0.014644,
     "end_time": "2025-02-08T16:56:32.655687",
     "exception": false,
     "start_time": "2025-02-08T16:56:32.641043",
     "status": "completed"
    },
    "tags": []
   },
   "outputs": [],
   "source": [
    "X_train, X_test, y_train, y_test = train_test_split(X, y, test_size=0.2, random_state = 42)"
   ]
  },
  {
   "cell_type": "code",
   "execution_count": 6,
   "id": "1a72a741",
   "metadata": {
    "execution": {
     "iopub.execute_input": "2025-02-08T16:56:32.666038Z",
     "iopub.status.busy": "2025-02-08T16:56:32.665686Z",
     "iopub.status.idle": "2025-02-08T16:56:32.672019Z",
     "shell.execute_reply": "2025-02-08T16:56:32.670569Z"
    },
    "papermill": {
     "duration": 0.013471,
     "end_time": "2025-02-08T16:56:32.673764",
     "exception": false,
     "start_time": "2025-02-08T16:56:32.660293",
     "status": "completed"
    },
    "tags": []
   },
   "outputs": [
    {
     "name": "stdout",
     "output_type": "stream",
     "text": [
      "   area\n",
      "4  4000\n",
      "2  3200\n",
      "0  2600\n",
      "3  3600\n"
     ]
    }
   ],
   "source": [
    "print(X_train)"
   ]
  },
  {
   "cell_type": "code",
   "execution_count": 7,
   "id": "836d477c",
   "metadata": {
    "execution": {
     "iopub.execute_input": "2025-02-08T16:56:32.684284Z",
     "iopub.status.busy": "2025-02-08T16:56:32.683938Z",
     "iopub.status.idle": "2025-02-08T16:56:32.689949Z",
     "shell.execute_reply": "2025-02-08T16:56:32.688779Z"
    },
    "papermill": {
     "duration": 0.013421,
     "end_time": "2025-02-08T16:56:32.691909",
     "exception": false,
     "start_time": "2025-02-08T16:56:32.678488",
     "status": "completed"
    },
    "tags": []
   },
   "outputs": [
    {
     "name": "stdout",
     "output_type": "stream",
     "text": [
      "   area\n",
      "1  3000\n"
     ]
    }
   ],
   "source": [
    "print(X_test)"
   ]
  },
  {
   "cell_type": "markdown",
   "id": "d5d967f2",
   "metadata": {
    "papermill": {
     "duration": 0.004115,
     "end_time": "2025-02-08T16:56:32.700694",
     "exception": false,
     "start_time": "2025-02-08T16:56:32.696579",
     "status": "completed"
    },
    "tags": []
   },
   "source": [
    "## Decision Tree"
   ]
  },
  {
   "cell_type": "code",
   "execution_count": 8,
   "id": "c8d4afec",
   "metadata": {
    "execution": {
     "iopub.execute_input": "2025-02-08T16:56:32.711151Z",
     "iopub.status.busy": "2025-02-08T16:56:32.710653Z",
     "iopub.status.idle": "2025-02-08T16:56:32.715989Z",
     "shell.execute_reply": "2025-02-08T16:56:32.714837Z"
    },
    "papermill": {
     "duration": 0.01276,
     "end_time": "2025-02-08T16:56:32.717877",
     "exception": false,
     "start_time": "2025-02-08T16:56:32.705117",
     "status": "completed"
    },
    "tags": []
   },
   "outputs": [],
   "source": [
    "model = DecisionTreeRegressor(random_state=42)"
   ]
  },
  {
   "cell_type": "code",
   "execution_count": 9,
   "id": "89d02e2e",
   "metadata": {
    "execution": {
     "iopub.execute_input": "2025-02-08T16:56:32.729733Z",
     "iopub.status.busy": "2025-02-08T16:56:32.729296Z",
     "iopub.status.idle": "2025-02-08T16:56:32.748677Z",
     "shell.execute_reply": "2025-02-08T16:56:32.747453Z"
    },
    "papermill": {
     "duration": 0.027223,
     "end_time": "2025-02-08T16:56:32.750346",
     "exception": false,
     "start_time": "2025-02-08T16:56:32.723123",
     "status": "completed"
    },
    "tags": []
   },
   "outputs": [
    {
     "data": {
      "text/html": [
       "<style>#sk-container-id-1 {color: black;background-color: white;}#sk-container-id-1 pre{padding: 0;}#sk-container-id-1 div.sk-toggleable {background-color: white;}#sk-container-id-1 label.sk-toggleable__label {cursor: pointer;display: block;width: 100%;margin-bottom: 0;padding: 0.3em;box-sizing: border-box;text-align: center;}#sk-container-id-1 label.sk-toggleable__label-arrow:before {content: \"▸\";float: left;margin-right: 0.25em;color: #696969;}#sk-container-id-1 label.sk-toggleable__label-arrow:hover:before {color: black;}#sk-container-id-1 div.sk-estimator:hover label.sk-toggleable__label-arrow:before {color: black;}#sk-container-id-1 div.sk-toggleable__content {max-height: 0;max-width: 0;overflow: hidden;text-align: left;background-color: #f0f8ff;}#sk-container-id-1 div.sk-toggleable__content pre {margin: 0.2em;color: black;border-radius: 0.25em;background-color: #f0f8ff;}#sk-container-id-1 input.sk-toggleable__control:checked~div.sk-toggleable__content {max-height: 200px;max-width: 100%;overflow: auto;}#sk-container-id-1 input.sk-toggleable__control:checked~label.sk-toggleable__label-arrow:before {content: \"▾\";}#sk-container-id-1 div.sk-estimator input.sk-toggleable__control:checked~label.sk-toggleable__label {background-color: #d4ebff;}#sk-container-id-1 div.sk-label input.sk-toggleable__control:checked~label.sk-toggleable__label {background-color: #d4ebff;}#sk-container-id-1 input.sk-hidden--visually {border: 0;clip: rect(1px 1px 1px 1px);clip: rect(1px, 1px, 1px, 1px);height: 1px;margin: -1px;overflow: hidden;padding: 0;position: absolute;width: 1px;}#sk-container-id-1 div.sk-estimator {font-family: monospace;background-color: #f0f8ff;border: 1px dotted black;border-radius: 0.25em;box-sizing: border-box;margin-bottom: 0.5em;}#sk-container-id-1 div.sk-estimator:hover {background-color: #d4ebff;}#sk-container-id-1 div.sk-parallel-item::after {content: \"\";width: 100%;border-bottom: 1px solid gray;flex-grow: 1;}#sk-container-id-1 div.sk-label:hover label.sk-toggleable__label {background-color: #d4ebff;}#sk-container-id-1 div.sk-serial::before {content: \"\";position: absolute;border-left: 1px solid gray;box-sizing: border-box;top: 0;bottom: 0;left: 50%;z-index: 0;}#sk-container-id-1 div.sk-serial {display: flex;flex-direction: column;align-items: center;background-color: white;padding-right: 0.2em;padding-left: 0.2em;position: relative;}#sk-container-id-1 div.sk-item {position: relative;z-index: 1;}#sk-container-id-1 div.sk-parallel {display: flex;align-items: stretch;justify-content: center;background-color: white;position: relative;}#sk-container-id-1 div.sk-item::before, #sk-container-id-1 div.sk-parallel-item::before {content: \"\";position: absolute;border-left: 1px solid gray;box-sizing: border-box;top: 0;bottom: 0;left: 50%;z-index: -1;}#sk-container-id-1 div.sk-parallel-item {display: flex;flex-direction: column;z-index: 1;position: relative;background-color: white;}#sk-container-id-1 div.sk-parallel-item:first-child::after {align-self: flex-end;width: 50%;}#sk-container-id-1 div.sk-parallel-item:last-child::after {align-self: flex-start;width: 50%;}#sk-container-id-1 div.sk-parallel-item:only-child::after {width: 0;}#sk-container-id-1 div.sk-dashed-wrapped {border: 1px dashed gray;margin: 0 0.4em 0.5em 0.4em;box-sizing: border-box;padding-bottom: 0.4em;background-color: white;}#sk-container-id-1 div.sk-label label {font-family: monospace;font-weight: bold;display: inline-block;line-height: 1.2em;}#sk-container-id-1 div.sk-label-container {text-align: center;}#sk-container-id-1 div.sk-container {/* jupyter's `normalize.less` sets `[hidden] { display: none; }` but bootstrap.min.css set `[hidden] { display: none !important; }` so we also need the `!important` here to be able to override the default hidden behavior on the sphinx rendered scikit-learn.org. See: https://github.com/scikit-learn/scikit-learn/issues/21755 */display: inline-block !important;position: relative;}#sk-container-id-1 div.sk-text-repr-fallback {display: none;}</style><div id=\"sk-container-id-1\" class=\"sk-top-container\"><div class=\"sk-text-repr-fallback\"><pre>DecisionTreeRegressor(random_state=42)</pre><b>In a Jupyter environment, please rerun this cell to show the HTML representation or trust the notebook. <br />On GitHub, the HTML representation is unable to render, please try loading this page with nbviewer.org.</b></div><div class=\"sk-container\" hidden><div class=\"sk-item\"><div class=\"sk-estimator sk-toggleable\"><input class=\"sk-toggleable__control sk-hidden--visually\" id=\"sk-estimator-id-1\" type=\"checkbox\" checked><label for=\"sk-estimator-id-1\" class=\"sk-toggleable__label sk-toggleable__label-arrow\">DecisionTreeRegressor</label><div class=\"sk-toggleable__content\"><pre>DecisionTreeRegressor(random_state=42)</pre></div></div></div></div></div>"
      ],
      "text/plain": [
       "DecisionTreeRegressor(random_state=42)"
      ]
     },
     "execution_count": 9,
     "metadata": {},
     "output_type": "execute_result"
    }
   ],
   "source": [
    "model.fit(X_train, y_train)"
   ]
  },
  {
   "cell_type": "markdown",
   "id": "34580bf8",
   "metadata": {
    "papermill": {
     "duration": 0.004324,
     "end_time": "2025-02-08T16:56:32.759521",
     "exception": false,
     "start_time": "2025-02-08T16:56:32.755197",
     "status": "completed"
    },
    "tags": []
   },
   "source": [
    "## Predictions"
   ]
  },
  {
   "cell_type": "code",
   "execution_count": 10,
   "id": "7c04b4ac",
   "metadata": {
    "execution": {
     "iopub.execute_input": "2025-02-08T16:56:32.770167Z",
     "iopub.status.busy": "2025-02-08T16:56:32.769749Z",
     "iopub.status.idle": "2025-02-08T16:56:32.775424Z",
     "shell.execute_reply": "2025-02-08T16:56:32.774544Z"
    },
    "papermill": {
     "duration": 0.012924,
     "end_time": "2025-02-08T16:56:32.776972",
     "exception": false,
     "start_time": "2025-02-08T16:56:32.764048",
     "status": "completed"
    },
    "tags": []
   },
   "outputs": [],
   "source": [
    "y_pred = model.predict(X_test)"
   ]
  },
  {
   "cell_type": "code",
   "execution_count": 11,
   "id": "0b40e5a7",
   "metadata": {
    "execution": {
     "iopub.execute_input": "2025-02-08T16:56:32.787636Z",
     "iopub.status.busy": "2025-02-08T16:56:32.787241Z",
     "iopub.status.idle": "2025-02-08T16:56:32.793079Z",
     "shell.execute_reply": "2025-02-08T16:56:32.792127Z"
    },
    "papermill": {
     "duration": 0.012962,
     "end_time": "2025-02-08T16:56:32.794733",
     "exception": false,
     "start_time": "2025-02-08T16:56:32.781771",
     "status": "completed"
    },
    "tags": []
   },
   "outputs": [],
   "source": [
    "mse = metrics.mean_squared_error(y_test, y_pred)"
   ]
  },
  {
   "cell_type": "code",
   "execution_count": 12,
   "id": "0cb70ea9",
   "metadata": {
    "execution": {
     "iopub.execute_input": "2025-02-08T16:56:32.805321Z",
     "iopub.status.busy": "2025-02-08T16:56:32.804966Z",
     "iopub.status.idle": "2025-02-08T16:56:32.810459Z",
     "shell.execute_reply": "2025-02-08T16:56:32.809172Z"
    },
    "papermill": {
     "duration": 0.012668,
     "end_time": "2025-02-08T16:56:32.812114",
     "exception": false,
     "start_time": "2025-02-08T16:56:32.799446",
     "status": "completed"
    },
    "tags": []
   },
   "outputs": [
    {
     "name": "stdout",
     "output_type": "stream",
     "text": [
      "Mean Squared Error: 2025000000.0\n"
     ]
    }
   ],
   "source": [
    "print(f'Mean Squared Error: {mse}')"
   ]
  },
  {
   "cell_type": "markdown",
   "id": "55a82cd1",
   "metadata": {
    "papermill": {
     "duration": 0.00459,
     "end_time": "2025-02-08T16:56:32.821564",
     "exception": false,
     "start_time": "2025-02-08T16:56:32.816974",
     "status": "completed"
    },
    "tags": []
   },
   "source": [
    "## Visualize"
   ]
  },
  {
   "cell_type": "code",
   "execution_count": 13,
   "id": "50acc456",
   "metadata": {
    "execution": {
     "iopub.execute_input": "2025-02-08T16:56:32.832240Z",
     "iopub.status.busy": "2025-02-08T16:56:32.831905Z",
     "iopub.status.idle": "2025-02-08T16:56:33.291972Z",
     "shell.execute_reply": "2025-02-08T16:56:33.290293Z"
    },
    "papermill": {
     "duration": 0.46796,
     "end_time": "2025-02-08T16:56:33.294217",
     "exception": false,
     "start_time": "2025-02-08T16:56:32.826257",
     "status": "completed"
    },
    "tags": []
   },
   "outputs": [
    {
     "data": {
      "image/png": "[encoded data removed]",
      "text/plain": [
       "<Figure size 1200x800 with 1 Axes>"
      ]
     },
     "metadata": {},
     "output_type": "display_data"
    }
   ],
   "source": [
    "plt.figure(figsize=(12,8))\n",
    "tree.plot_tree(model, filled=True, feature_names=['Area'], rounded=True)\n",
    "plt.show()"
   ]
  }
 ],
 "metadata": {
  "kaggle": {
   "accelerator": "none",
   "dataSources": [
    {
     "datasetId": 6628693,
     "sourceId": 10697086,
     "sourceType": "datasetVersion"
    }
   ],
   "dockerImageVersionId": 30886,
   "isGpuEnabled": false,
   "isInternetEnabled": true,
   "language": "python",
   "sourceType": "notebook"
  },
  "kernelspec": {
   "display_name": "Python 3",
   "language": "python",
   "name": "python3"
  },
  "language_info": {
   "codemirror_mode": {
    "name": "ipython",
    "version": 3
   },
   "file_extension": ".py",
   "mimetype": "text/x-python",
   "name": "python",
   "nbconvert_exporter": "python",
   "pygments_lexer": "ipython3",
   "version": "3.10.12"
  },
  "papermill": {
   "default_parameters": {},
   "duration": 7.682679,
   "end_time": "2025-02-08T16:56:34.125562",
   "environment_variables": {},
   "exception": null,
   "input_path": "__notebook__.ipynb",
   "output_path": "__notebook__.ipynb",
   "parameters": {},
   "start_time": "2025-02-08T16:56:26.442883",
   "version": "2.6.0"
  }
 },
 "nbformat": 4,
 "nbformat_minor": 5
}
